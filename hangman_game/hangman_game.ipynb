{
 "cells": [
  {
   "cell_type": "code",
   "execution_count": 20,
   "id": "e4130bbc",
   "metadata": {},
   "outputs": [
    {
     "name": "stdout",
     "output_type": "stream",
     "text": [
      "\n",
      " _                                             \n",
      "| |                                            \n",
      "| |__   __ _ _ __   __ _ _ __ ___   __ _ _ __  \n",
      "| '_ \\ / _` | '_ \\ / _` | '_ ` _ \\ / _` | '_ \\ \n",
      "| | | | (_| | | | | (_| | | | | | | (_| | | | |\n",
      "|_| |_|\\__,_|_| |_|\\__, |_| |_| |_|\\__,_|_| |_|\n",
      "                    __/ |                      \n",
      "                   |___/                       \n",
      "\n",
      "beaver\n",
      "['_', 'e', 'a', '_', 'e', '_']\n",
      "guess wrong :0 life left\n",
      "you lose\n",
      "\n",
      "  +---+\n",
      "  |   |\n",
      "  O   |\n",
      " /|\\  |\n",
      " / \\  |\n",
      "      |\n",
      "=========\n"
     ]
    }
   ],
   "source": [
    "# !pip install replit\n",
    "# !pip install import-ipynb\n",
    "from IPython.display import clear_output\n",
    "import import_ipynb\n",
    "import random\n",
    "import hangman_art \n",
    "the_word=random.choice(hangman_art.word_list)\n",
    "word_len=len(the_word)\n",
    "end_game=False\n",
    "live=6\n",
    "print(hangman_art.logo)\n",
    "empty=[]\n",
    "print(hangman_art.stages[0])\n",
    "for _ in range(word_len):\n",
    "    empty+='_'\n",
    "while not end_game:\n",
    "    guess=input('guess a letter:').lower()\n",
    "    clear_output(wait=True)\n",
    "    print(hangman_art.logo)\n",
    "    print(the_word)\n",
    "    if guess not in empty:\n",
    "        for i in range(word_len):\n",
    "            if guess==the_word[i]:\n",
    "                empty[i]=guess\n",
    "        print(empty)\n",
    "        if guess not in the_word:\n",
    "            live-=1\n",
    "            print(f'guess wrong :{live} life left')\n",
    "        if live==0:\n",
    "            end_game=True\n",
    "            print('you lose')\n",
    "        if '_' not in empty:\n",
    "            end_game=True\n",
    "            print('you win')\n",
    "        print(hangman_art.stages[6-live])\n",
    "    else:\n",
    "        print('already guessed')"
   ]
  },
  {
   "cell_type": "code",
   "execution_count": null,
   "id": "97bbc7d5",
   "metadata": {},
   "outputs": [],
   "source": []
  },
  {
   "cell_type": "code",
   "execution_count": null,
   "id": "d08e7be4",
   "metadata": {},
   "outputs": [],
   "source": []
  }
 ],
 "metadata": {
  "kernelspec": {
   "display_name": "Python 3 (ipykernel)",
   "language": "python",
   "name": "python3"
  },
  "language_info": {
   "codemirror_mode": {
    "name": "ipython",
    "version": 3
   },
   "file_extension": ".py",
   "mimetype": "text/x-python",
   "name": "python",
   "nbconvert_exporter": "python",
   "pygments_lexer": "ipython3",
   "version": "3.9.7"
  }
 },
 "nbformat": 4,
 "nbformat_minor": 5
}
